{
  "nbformat": 4,
  "nbformat_minor": 0,
  "metadata": {
    "colab": {
      "name": "fehrenheit",
      "version": "0.3.2",
      "provenance": [],
      "collapsed_sections": [],
      "include_colab_link": true
    },
    "kernelspec": {
      "name": "python3",
      "display_name": "Python 3"
    }
  },
  "cells": [
    {
      "cell_type": "markdown",
      "metadata": {
        "id": "view-in-github",
        "colab_type": "text"
      },
      "source": [
        "<a href=\"https://colab.research.google.com/github/t9kw9/LearnDeepLearning/blob/master/fehrenheit.ipynb\" target=\"_parent\"><img src=\"https://colab.research.google.com/assets/colab-badge.svg\" alt=\"Open In Colab\"/></a>"
      ]
    },
    {
      "metadata": {
        "id": "jnMqlOCp1U9-",
        "colab_type": "code",
        "colab": {}
      },
      "cell_type": "code",
      "source": [
        "#Converting Celsius to Fahrenheit\n",
        "\n",
        "import tensorflow as tf\n",
        "tf.logging.set_verbosity(tf.logging.ERROR) #output error type\n",
        "\n",
        "import numpy as np # setting data as hightly performed list "
      ],
      "execution_count": 0,
      "outputs": []
    },
    {
      "metadata": {
        "id": "ydWHP3T12n6a",
        "colab_type": "text"
      },
      "cell_type": "markdown",
      "source": [
        "***setup trainning data***\n",
        "2- train the model that learn how to map between these too list ."
      ]
    },
    {
      "metadata": {
        "id": "ydTepMi918V1",
        "colab_type": "code",
        "colab": {
          "base_uri": "https://localhost:8080/",
          "height": 136
        },
        "outputId": "1240b827-b3db-432d-f6a5-7f266dc88b6f"
      },
      "cell_type": "code",
      "source": [
        "celuis_g = np.array([-40, -10 , 0 , 8 ,15 ,22 ,38 ])\n",
        "feh_g = np.array([-40, 14 , 32 , 46 , 59 , 72 , 100])\n",
        "\n",
        "for i,c  in enumerate(celuis_g):\n",
        "  print('{} degree celuis = {} deg fehreiheit '.format(c , feh_g[i]))"
      ],
      "execution_count": 10,
      "outputs": [
        {
          "output_type": "stream",
          "text": [
            "-40 degree celuis = -40 deg fehreiheit \n",
            "-10 degree celuis = 14 deg fehreiheit \n",
            "0 degree celuis = 32 deg fehreiheit \n",
            "8 degree celuis = 46 deg fehreiheit \n",
            "15 degree celuis = 59 deg fehreiheit \n",
            "22 degree celuis = 72 deg fehreiheit \n",
            "38 degree celuis = 100 deg fehreiheit \n"
          ],
          "name": "stdout"
        }
      ]
    },
    {
      "metadata": {
        "id": "RA6sSLUy4MMX",
        "colab_type": "code",
        "colab": {}
      },
      "cell_type": "code",
      "source": [
        "l0 = tf.keras.layers.Dense(units=1 , input_shape=[1]) # unit 1 eq 1 variable to predict ,  shape = 1 neurone input \n",
        "model = tf.keras.Sequential([l0]) #assemble layers declaration into the model, take a list of layers as argument "
      ],
      "execution_count": 0,
      "outputs": []
    },
    {
      "metadata": {
        "id": "AUwBGMSP-uCs",
        "colab_type": "code",
        "colab": {}
      },
      "cell_type": "code",
      "source": [
        "model.compile(loss='mean_squared_error' , \n",
        "              optimizer=tf.keras.optimizers.Adam(0.1)) # 0.1 learning rate tell tensorflow to find the best model between 0.1...0.00001\n",
        " "
      ],
      "execution_count": 0,
      "outputs": []
    },
    {
      "metadata": {
        "id": "eI8K6Kob7Qq2",
        "colab_type": "code",
        "colab": {
          "base_uri": "https://localhost:8080/",
          "height": 34
        },
        "outputId": "2e17d204-4761-49ed-c74d-eaea01d402d6"
      },
      "cell_type": "code",
      "source": [
        " #train the model\n",
        "  \n",
        "history = model.fit(celuis_g , feh_g , epochs=500 , verbose =False )\n",
        "\n",
        "print('Finished trainning the model ') \n"
      ],
      "execution_count": 18,
      "outputs": [
        {
          "output_type": "stream",
          "text": [
            "Finished trainning the model \n"
          ],
          "name": "stdout"
        }
      ]
    },
    {
      "metadata": {
        "id": "mpzdgUTGBW9f",
        "colab_type": "code",
        "colab": {
          "base_uri": "https://localhost:8080/",
          "height": 301
        },
        "outputId": "80d64293-658d-4615-fa63-763943209cc9"
      },
      "cell_type": "code",
      "source": [
        "#display trainning static \n",
        "\n",
        "import matplotlib.pyplot as plt\n",
        "plt.xlabel('Epoch Number')\n",
        "plt.ylabel('lose magnitude')\n",
        "plt.plot(history.history['loss'])\n"
      ],
      "execution_count": 20,
      "outputs": [
        {
          "output_type": "execute_result",
          "data": {
            "text/plain": [
              "[<matplotlib.lines.Line2D at 0x7fc5253d55f8>]"
            ]
          },
          "metadata": {
            "tags": []
          },
          "execution_count": 20
        },
        {
          "output_type": "display_data",
          "data": {
            "image/png": "[encoded data removed]",
            "text/plain": [
              "<Figure size 432x288 with 1 Axes>"
            ]
          },
          "metadata": {
            "tags": []
          }
        }
      ]
    },
    {
      "metadata": {
        "id": "WdO7Tx4YC41G",
        "colab_type": "code",
        "colab": {
          "base_uri": "https://localhost:8080/",
          "height": 34
        },
        "outputId": "01e21748-c474-498a-928a-b8e8d27cb7d3"
      },
      "cell_type": "code",
      "source": [
        "print(model.predict([100.0]))\n",
        "#trainned 3500 examples  7 pairs  * 500 epochs"
      ],
      "execution_count": 23,
      "outputs": [
        {
          "output_type": "stream",
          "text": [
            "[[211.30481]]\n"
          ],
          "name": "stdout"
        }
      ]
    },
    {
      "metadata": {
        "id": "M7xQVSOiDum5",
        "colab_type": "code",
        "colab": {}
      },
      "cell_type": "code",
      "source": [
        ""
      ],
      "execution_count": 0,
      "outputs": []
    }
  ]
}